{
  "nbformat": 4,
  "nbformat_minor": 0,
  "metadata": {
    "colab": {
      "provenance": []
    },
    "kernelspec": {
      "name": "python3",
      "display_name": "Python 3"
    },
    "language_info": {
      "name": "python"
    }
  },
  "cells": [
    {
      "cell_type": "markdown",
      "source": [
        "## Assembly AI"
      ],
      "metadata": {
        "id": "QvZfcdLIAK2K"
      }
    },
    {
      "cell_type": "markdown",
      "source": [
        "### Setup"
      ],
      "metadata": {
        "id": "_BAZfHJhAaiw"
      }
    },
    {
      "cell_type": "code",
      "source": [
        "%%capture\n",
        "!pip install fireworks-ai\n",
        "!pip install python-dotenv"
      ],
      "metadata": {
        "id": "S-oRNv_I4STc"
      },
      "execution_count": 17,
      "outputs": []
    },
    {
      "cell_type": "code",
      "execution_count": 1,
      "metadata": {
        "colab": {
          "base_uri": "https://localhost:8080/"
        },
        "id": "3-mk0Col8qpw",
        "outputId": "d40e84a4-1857-49f5-d26f-f5d6fee481c0"
      },
      "outputs": [
        {
          "output_type": "stream",
          "name": "stdout",
          "text": [
            "Collecting assemblyai\n",
            "  Downloading assemblyai-0.27.0-py3-none-any.whl (69 kB)\n",
            "\u001b[2K     \u001b[90m━━━━━━━━━━━━━━━━━━━━━━━━━━━━━━━━━━━━━━━━\u001b[0m \u001b[32m69.1/69.1 kB\u001b[0m \u001b[31m1.6 MB/s\u001b[0m eta \u001b[36m0:00:00\u001b[0m\n",
            "\u001b[?25hCollecting httpx>=0.19.0 (from assemblyai)\n",
            "  Downloading httpx-0.27.0-py3-none-any.whl (75 kB)\n",
            "\u001b[2K     \u001b[90m━━━━━━━━━━━━━━━━━━━━━━━━━━━━━━━━━━━━━━━━\u001b[0m \u001b[32m75.6/75.6 kB\u001b[0m \u001b[31m8.5 MB/s\u001b[0m eta \u001b[36m0:00:00\u001b[0m\n",
            "\u001b[?25hRequirement already satisfied: pydantic!=1.10.7,>=1.7.0 in /usr/local/lib/python3.10/dist-packages (from assemblyai) (2.7.3)\n",
            "Requirement already satisfied: typing-extensions>=3.7 in /usr/local/lib/python3.10/dist-packages (from assemblyai) (4.12.1)\n",
            "Collecting websockets>=11.0 (from assemblyai)\n",
            "  Downloading websockets-12.0-cp310-cp310-manylinux_2_5_x86_64.manylinux1_x86_64.manylinux_2_17_x86_64.manylinux2014_x86_64.whl (130 kB)\n",
            "\u001b[2K     \u001b[90m━━━━━━━━━━━━━━━━━━━━━━━━━━━━━━━━━━━━━━━━\u001b[0m \u001b[32m130.2/130.2 kB\u001b[0m \u001b[31m13.4 MB/s\u001b[0m eta \u001b[36m0:00:00\u001b[0m\n",
            "\u001b[?25hRequirement already satisfied: anyio in /usr/local/lib/python3.10/dist-packages (from httpx>=0.19.0->assemblyai) (3.7.1)\n",
            "Requirement already satisfied: certifi in /usr/local/lib/python3.10/dist-packages (from httpx>=0.19.0->assemblyai) (2024.6.2)\n",
            "Collecting httpcore==1.* (from httpx>=0.19.0->assemblyai)\n",
            "  Downloading httpcore-1.0.5-py3-none-any.whl (77 kB)\n",
            "\u001b[2K     \u001b[90m━━━━━━━━━━━━━━━━━━━━━━━━━━━━━━━━━━━━━━━━\u001b[0m \u001b[32m77.9/77.9 kB\u001b[0m \u001b[31m9.0 MB/s\u001b[0m eta \u001b[36m0:00:00\u001b[0m\n",
            "\u001b[?25hRequirement already satisfied: idna in /usr/local/lib/python3.10/dist-packages (from httpx>=0.19.0->assemblyai) (3.7)\n",
            "Requirement already satisfied: sniffio in /usr/local/lib/python3.10/dist-packages (from httpx>=0.19.0->assemblyai) (1.3.1)\n",
            "Collecting h11<0.15,>=0.13 (from httpcore==1.*->httpx>=0.19.0->assemblyai)\n",
            "  Downloading h11-0.14.0-py3-none-any.whl (58 kB)\n",
            "\u001b[2K     \u001b[90m━━━━━━━━━━━━━━━━━━━━━━━━━━━━━━━━━━━━━━━━\u001b[0m \u001b[32m58.3/58.3 kB\u001b[0m \u001b[31m5.9 MB/s\u001b[0m eta \u001b[36m0:00:00\u001b[0m\n",
            "\u001b[?25hRequirement already satisfied: annotated-types>=0.4.0 in /usr/local/lib/python3.10/dist-packages (from pydantic!=1.10.7,>=1.7.0->assemblyai) (0.7.0)\n",
            "Requirement already satisfied: pydantic-core==2.18.4 in /usr/local/lib/python3.10/dist-packages (from pydantic!=1.10.7,>=1.7.0->assemblyai) (2.18.4)\n",
            "Requirement already satisfied: exceptiongroup in /usr/local/lib/python3.10/dist-packages (from anyio->httpx>=0.19.0->assemblyai) (1.2.1)\n",
            "Installing collected packages: websockets, h11, httpcore, httpx, assemblyai\n",
            "Successfully installed assemblyai-0.27.0 h11-0.14.0 httpcore-1.0.5 httpx-0.27.0 websockets-12.0\n"
          ]
        }
      ],
      "source": [
        "!pip install assemblyai"
      ]
    },
    {
      "cell_type": "code",
      "source": [
        "import os\n",
        "from requests.auth import HTTPBasicAuth\n"
      ],
      "metadata": {
        "id": "4_HMKUwhDvKo"
      },
      "execution_count": 2,
      "outputs": []
    },
    {
      "cell_type": "code",
      "source": [
        "import getpass\n",
        "assemblyai_api_key = getpass.getpass(\"Enter your API Key...\")"
      ],
      "metadata": {
        "colab": {
          "base_uri": "https://localhost:8080/"
        },
        "id": "7ji0Wi5AJkGp",
        "outputId": "b7b1d1c3-ea91-4829-8d6d-f722c20ca72a"
      },
      "execution_count": 3,
      "outputs": [
        {
          "name": "stdout",
          "output_type": "stream",
          "text": [
            "Enter your API Key...··········\n"
          ]
        }
      ]
    },
    {
      "cell_type": "code",
      "source": [
        "import getpass\n",
        "api_key = getpass.getpass(\"Enter your API Key...\")"
      ],
      "metadata": {
        "colab": {
          "base_uri": "https://localhost:8080/"
        },
        "id": "GUHfoPSUJ74y",
        "outputId": "7de062e5-4202-4e92-afd1-1cf52c9f4c0b"
      },
      "execution_count": 13,
      "outputs": [
        {
          "name": "stdout",
          "output_type": "stream",
          "text": [
            "Enter your API Key...··········\n"
          ]
        }
      ]
    },
    {
      "cell_type": "code",
      "source": [
        "import os\n",
        "os.environ['FIREWORKS_API_KEY'] = api_key"
      ],
      "metadata": {
        "id": "L6cPPIUG33tT"
      },
      "execution_count": 14,
      "outputs": []
    },
    {
      "cell_type": "code",
      "source": [
        "import fireworks.client\n",
        "fireworks.client.api_key = api_key"
      ],
      "metadata": {
        "id": "S4SiYjSv3-pI"
      },
      "execution_count": 16,
      "outputs": []
    },
    {
      "cell_type": "code",
      "source": [
        "%%capture\n",
        "#openai\n",
        "!pip install requests\n",
        "!pip install fireworks-ai\n",
        "!pip install pytube"
      ],
      "metadata": {
        "id": "965mMCJMAgcE"
      },
      "execution_count": 5,
      "outputs": []
    },
    {
      "cell_type": "code",
      "source": [
        "import os\n",
        "import requests\n",
        "import fireworks.client\n",
        "import subprocess\n",
        "from fireworks.client import Fireworks\n",
        "from pytube import YouTube"
      ],
      "metadata": {
        "id": "FsT4YTcCLOum"
      },
      "execution_count": 6,
      "outputs": []
    },
    {
      "cell_type": "markdown",
      "source": [
        "## Llama-3"
      ],
      "metadata": {
        "id": "63kPUaqqPXX3"
      }
    },
    {
      "cell_type": "code",
      "source": [
        "%%capture\n",
        "! pip install ffmpeg-python pytube"
      ],
      "metadata": {
        "id": "g78sowco9VVe"
      },
      "execution_count": 9,
      "outputs": []
    },
    {
      "cell_type": "code",
      "source": [
        "from pytube import YouTube\n",
        "import subprocess\n",
        "import requests"
      ],
      "metadata": {
        "id": "mGV0npu19mMC"
      },
      "execution_count": 10,
      "outputs": []
    },
    {
      "cell_type": "code",
      "source": [
        "%%capture\n",
        "!pip install gradio"
      ],
      "metadata": {
        "id": "gKJ_r5RYKdFh"
      },
      "execution_count": 11,
      "outputs": []
    },
    {
      "cell_type": "code",
      "source": [
        "import assemblyai as aai\n",
        "import requests\n",
        "import time\n",
        "import os\n",
        "import subprocess\n",
        "from pytube import YouTube\n",
        "from textwrap import wrap\n",
        "from fireworks.client import Fireworks\n",
        "from getpass import getpass\n",
        "\n",
        "\n",
        "# Set AssemblyAI API key\n",
        "aai.settings.api_key = assemblyai_api_key\n",
        "\n",
        "# Function to download YouTube video\n",
        "def download_youtube_video(youtube_url, video_output):\n",
        "    yt = YouTube(youtube_url)\n",
        "    video_stream = yt.streams.filter(only_audio=True).first()\n",
        "    video_stream.download(filename=video_output)\n",
        "\n",
        "# Function to extract audio from video\n",
        "def extract_audio(video_path, audio_output):\n",
        "    command = f\"ffmpeg -i {video_path} -q:a 0 -map a {audio_output}\"\n",
        "    subprocess.run(command, shell=True)\n",
        "\n",
        "# Function to upload audio to AssemblyAI\n",
        "def upload_to_assemblyai(audio_path):\n",
        "    headers = {\n",
        "        \"authorization\": assemblyai_api_key,\n",
        "    }\n",
        "    response = requests.post(\"https://api.assemblyai.com/v2/upload\",\n",
        "                             headers=headers,\n",
        "                             files={\"file\": open(audio_path, \"rb\")})\n",
        "    return response.json()[\"upload_url\"]\n",
        "\n",
        "# Function to transcribe audio using AssemblyAI\n",
        "def transcribe_audio(audio_url):\n",
        "    endpoint = \"https://api.assemblyai.com/v2/transcript\"\n",
        "    json = {\n",
        "        \"audio_url\": audio_url\n",
        "    }\n",
        "    headers = {\n",
        "        \"authorization\": assemblyai_api_key,\n",
        "        \"content-type\": \"application/json\"\n",
        "    }\n",
        "    response = requests.post(endpoint, json=json, headers=headers)\n",
        "    transcript_id = response.json()[\"id\"]\n",
        "\n",
        "    # Polling for the transcription result\n",
        "    endpoint = f\"https://api.assemblyai.com/v2/transcript/{transcript_id}\"\n",
        "    while True:\n",
        "        response = requests.get(endpoint, headers=headers)\n",
        "        result = response.json()\n",
        "        if result[\"status\"] == \"completed\":\n",
        "            return result[\"text\"]\n",
        "        elif result[\"status\"] == \"failed\":\n",
        "            raise Exception(\"Transcription failed\")\n",
        "        time.sleep(5)\n",
        "\n",
        "\n",
        "\n",
        "def get_completion(prompt, max_tokens=4096):\n",
        "    fw_model_dir = \"accounts/fireworks/models/\"\n",
        "    model = \"llama-v3-70b-instruct\"\n",
        "    model = fw_model_dir + model\n",
        "    completion = fireworks.client.Completion.create(\n",
        "        model=model,\n",
        "        prompt=prompt,\n",
        "        max_tokens=max_tokens,\n",
        "        temperature=0\n",
        "    )\n",
        "\n",
        "    return completion.choices[0].text\n",
        "# Function to extract action items using Fireworks\n",
        "def extract_action_items(transcription):\n",
        "    prompt = f\"Extract action items from the following meeting transcript:\\n\\n{transcription}\\n\\nAction items:\"\n",
        "    action_items = get_completion(prompt)\n",
        "    return action_items.strip()\n",
        "\n",
        "\n",
        "# Function to generate MCQs\n",
        "def generate_mcqs(transcription):\n",
        "    prompt = f\"Generate 10 multiple choice questions from the following transcript. Only provide the questions and answer options without any additional text or formatting:\\n\\n{transcription}\\n\\nMCQs:\"\n",
        "    mcqs = get_completion(prompt)\n",
        "    return mcqs.strip()\n",
        "\n",
        "# Main process function\n",
        "def process_video(video_file_path=None, youtube_url=None):\n",
        "    video_file_path = \"downloaded_video.mp4\" if youtube_url else video_file_path\n",
        "    audio_file_path = \"output_audio.mp3\"\n",
        "\n",
        "    if youtube_url:\n",
        "        download_youtube_video(youtube_url, video_file_path)\n",
        "\n",
        "    extract_audio(video_file_path, audio_file_path)\n",
        "    audio_url = upload_to_assemblyai(audio_file_path)\n",
        "    transcription = transcribe_audio(audio_url)\n",
        "    action_items = extract_action_items(transcription)\n",
        "    mcqs = generate_mcqs(transcription)\n",
        "\n",
        "    if youtube_url:\n",
        "        os.remove(video_file_path)  # Clean up video file if it was downloaded\n",
        "    os.remove(audio_file_path)  # Clean up audio file\n",
        "\n",
        "    return transcription, action_items, mcqs\n",
        "\n",
        "# Example usage\n",
        "youtube_url = input(\"Enter YouTube URL (leave blank if uploading a video file): \").strip()\n",
        "video_file_path = None\n",
        "\n",
        "if not youtube_url:\n",
        "    video_file_path = input(\"Enter the path to your video file: \").strip()\n",
        "\n",
        "# Process the video\n",
        "transcription, action_items, mcqs = process_video(video_file_path=video_file_path, youtube_url=youtube_url)\n",
        "\n",
        "# Display the results\n",
        "# wrapped_transcription = \"\\n\".join(wrap(transcription, width=80))\n",
        "# print(\"### Transcription:\\n\")\n",
        "# print(wrapped_transcription)\n",
        "# print(\"\\n### Action Items:\\n\")\n",
        "# print(action_items)\n",
        "# print(\"\\n### MCQs:\\n\")\n",
        "# print(mcqs)\n",
        "mcqs_list = [q.strip() for q in mcqs.split('\\n') if q.strip()]\n",
        "mcqs_dict = {}\n",
        "question = \"\"\n",
        "for i, line in enumerate(mcqs_list):\n",
        "    if i % 6 == 0:\n",
        "        question = line\n",
        "        mcqs_dict[question] = []\n",
        "    else:\n",
        "        mcqs_dict[question].append(line)\n",
        "\n",
        "# Display the MCQs dictionary\n",
        "print(\"### MCQs Dictionary:\\n\")\n",
        "print(mcqs_dict)"
      ],
      "metadata": {
        "id": "isDVUlQZDn4C"
      },
      "execution_count": null,
      "outputs": []
    },
    {
      "cell_type": "code",
      "source": [],
      "metadata": {
        "id": "QiObg7FZ6G07"
      },
      "execution_count": null,
      "outputs": []
    }
  ]
}