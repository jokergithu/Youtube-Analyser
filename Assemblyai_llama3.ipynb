{
  "cells": [
    {
      "cell_type": "markdown",
      "metadata": {
        "id": "QvZfcdLIAK2K"
      },
      "source": [
        "## Assembly AI"
      ]
    },
    {
      "cell_type": "markdown",
      "metadata": {
        "id": "_BAZfHJhAaiw"
      },
      "source": [
        "### Setup"
      ]
    },
    {
      "cell_type": "code",
      "execution_count": 1,
      "metadata": {
        "id": "S-oRNv_I4STc"
      },
      "outputs": [],
      "source": [
        "%%capture\n",
        "!pip install fireworks-ai\n",
        "!pip install python-dotenv"
      ]
    },
    {
      "cell_type": "code",
      "execution_count": 2,
      "metadata": {
        "colab": {
          "base_uri": "https://localhost:8080/"
        },
        "id": "3-mk0Col8qpw",
        "outputId": "d40e84a4-1857-49f5-d26f-f5d6fee481c0"
      },
      "outputs": [],
      "source": [
        "%%capture\n",
        "!pip install assemblyai"
      ]
    },
    {
      "cell_type": "code",
      "execution_count": 3,
      "metadata": {
        "id": "4_HMKUwhDvKo"
      },
      "outputs": [],
      "source": [
        "import os\n",
        "from requests.auth import HTTPBasicAuth"
      ]
    },
    {
      "cell_type": "code",
      "execution_count": 4,
      "metadata": {
        "colab": {
          "base_uri": "https://localhost:8080/"
        },
        "id": "7ji0Wi5AJkGp",
        "outputId": "b7b1d1c3-ea91-4829-8d6d-f722c20ca72a"
      },
      "outputs": [],
      "source": [
        "import getpass\n",
        "assemblyai_api_key = getpass.getpass(\"Enter your API Key...\")"
      ]
    },
    {
      "cell_type": "code",
      "execution_count": 5,
      "metadata": {
        "colab": {
          "base_uri": "https://localhost:8080/"
        },
        "id": "GUHfoPSUJ74y",
        "outputId": "7de062e5-4202-4e92-afd1-1cf52c9f4c0b"
      },
      "outputs": [],
      "source": [
        "import getpass\n",
        "api_key = getpass.getpass(\"Enter your API Key...\")"
      ]
    },
    {
      "cell_type": "code",
      "execution_count": 6,
      "metadata": {
        "id": "L6cPPIUG33tT"
      },
      "outputs": [],
      "source": [
        "import os\n",
        "os.environ['FIREWORKS_API_KEY'] = api_key"
      ]
    },
    {
      "cell_type": "code",
      "execution_count": 7,
      "metadata": {
        "id": "S4SiYjSv3-pI"
      },
      "outputs": [],
      "source": [
        "import fireworks.client\n",
        "fireworks.client.api_key = api_key"
      ]
    },
    {
      "cell_type": "code",
      "execution_count": 8,
      "metadata": {
        "id": "965mMCJMAgcE"
      },
      "outputs": [],
      "source": [
        "%%capture\n",
        "#openai\n",
        "!pip install requests\n",
        "!pip install fireworks-ai\n",
        "!pip install pytube"
      ]
    },
    {
      "cell_type": "code",
      "execution_count": 9,
      "metadata": {
        "id": "FsT4YTcCLOum"
      },
      "outputs": [],
      "source": [
        "import os\n",
        "import requests\n",
        "import fireworks.client\n",
        "import subprocess\n",
        "from fireworks.client import Fireworks\n",
        "from pytube import YouTube"
      ]
    },
    {
      "cell_type": "markdown",
      "metadata": {
        "id": "63kPUaqqPXX3"
      },
      "source": [
        "## Llama-3"
      ]
    },
    {
      "cell_type": "code",
      "execution_count": 10,
      "metadata": {
        "id": "g78sowco9VVe"
      },
      "outputs": [],
      "source": [
        "%%capture\n",
        "! pip install ffmpeg-python pytube"
      ]
    },
    {
      "cell_type": "code",
      "execution_count": 11,
      "metadata": {
        "id": "mGV0npu19mMC"
      },
      "outputs": [],
      "source": [
        "from pytube import YouTube\n",
        "import subprocess\n",
        "import requests"
      ]
    },
    {
      "cell_type": "code",
      "execution_count": 14,
      "metadata": {
        "id": "isDVUlQZDn4C"
      },
      "outputs": [
        {
          "name": "stderr",
          "output_type": "stream",
          "text": [
            "ffmpeg version 4.4.2-0ubuntu0.22.04.1 Copyright (c) 2000-2021 the FFmpeg developers\n",
            "  built with gcc 11 (Ubuntu 11.2.0-19ubuntu1)\n",
            "  configuration: --prefix=/usr --extra-version=0ubuntu0.22.04.1 --toolchain=hardened --libdir=/usr/lib/x86_64-linux-gnu --incdir=/usr/include/x86_64-linux-gnu --arch=amd64 --enable-gpl --disable-stripping --enable-gnutls --enable-ladspa --enable-libaom --enable-libass --enable-libbluray --enable-libbs2b --enable-libcaca --enable-libcdio --enable-libcodec2 --enable-libdav1d --enable-libflite --enable-libfontconfig --enable-libfreetype --enable-libfribidi --enable-libgme --enable-libgsm --enable-libjack --enable-libmp3lame --enable-libmysofa --enable-libopenjpeg --enable-libopenmpt --enable-libopus --enable-libpulse --enable-librabbitmq --enable-librubberband --enable-libshine --enable-libsnappy --enable-libsoxr --enable-libspeex --enable-libsrt --enable-libssh --enable-libtheora --enable-libtwolame --enable-libvidstab --enable-libvorbis --enable-libvpx --enable-libwebp --enable-libx265 --enable-libxml2 --enable-libxvid --enable-libzimg --enable-libzmq --enable-libzvbi --enable-lv2 --enable-omx --enable-openal --enable-opencl --enable-opengl --enable-sdl2 --enable-pocketsphinx --enable-librsvg --enable-libmfx --enable-libdc1394 --enable-libdrm --enable-libiec61883 --enable-chromaprint --enable-frei0r --enable-libx264 --enable-shared\n",
            "  libavutil      56. 70.100 / 56. 70.100\n",
            "  libavcodec     58.134.100 / 58.134.100\n",
            "  libavformat    58. 76.100 / 58. 76.100\n",
            "  libavdevice    58. 13.100 / 58. 13.100\n",
            "  libavfilter     7.110.100 /  7.110.100\n",
            "  libswscale      5.  9.100 /  5.  9.100\n",
            "  libswresample   3.  9.100 /  3.  9.100\n",
            "  libpostproc    55.  9.100 / 55.  9.100\n",
            "Input #0, mov,mp4,m4a,3gp,3g2,mj2, from 'downloaded_video.mp4':\n",
            "  Metadata:\n",
            "    major_brand     : dash\n",
            "    minor_version   : 0\n",
            "    compatible_brands: iso6mp41\n",
            "    creation_time   : 2023-05-24T22:17:56.000000Z\n",
            "  Duration: 00:25:46.91, start: 0.000000, bitrate: 48 kb/s\n",
            "  Stream #0:0(und): Audio: aac (HE-AAC) (mp4a / 0x6134706D), 44100 Hz, stereo, fltp, 0 kb/s (default)\n",
            "    Metadata:\n",
            "      creation_time   : 2023-05-24T22:17:56.000000Z\n",
            "      handler_name    : ISO Media file produced by Google Inc.\n",
            "      vendor_id       : [0][0][0][0]\n",
            "Stream mapping:\n",
            "  Stream #0:0 -> #0:0 (aac (native) -> mp3 (libmp3lame))\n",
            "Press [q] to stop, [?] for help\n",
            "Output #0, mp3, to 'output_audio.mp3':\n",
            "  Metadata:\n",
            "    major_brand     : dash\n",
            "    minor_version   : 0\n",
            "    compatible_brands: iso6mp41\n",
            "    TSSE            : Lavf58.76.100\n",
            "  Stream #0:0(und): Audio: mp3, 44100 Hz, stereo, fltp (default)\n",
            "    Metadata:\n",
            "      creation_time   : 2023-05-24T22:17:56.000000Z\n",
            "      handler_name    : ISO Media file produced by Google Inc.\n",
            "      vendor_id       : [0][0][0][0]\n",
            "      encoder         : Lavc58.134.100 libmp3lame\n",
            "size=   35088kB time=00:25:46.89 bitrate= 185.8kbits/s speed=71.1x    \n",
            "video:0kB audio:35088kB subtitle:0kB other streams:0kB global headers:0kB muxing overhead: 0.000963%\n"
          ]
        },
        {
          "name": "stdout",
          "output_type": "stream",
          "text": [
            "### MCQs Dictionary:\n",
            "\n",
            "{\"1. What is the main topic of the speaker's talk?\": ['a) Agents in Lingchain', 'b) React, a prompting strategy', 'c) Tool usage in language models', 'd) Evaluation of language models', 'Answer: a) Agents in Lingchain'], '2. What is the core idea of agents, according to the speaker?': ['a) Using language models as a reasoning engine', 'b) Connecting language models to search engines', 'c) Using tools to overcome limitations of language models', 'd) Improving the reliability of language models', 'Answer: a) Using language models as a reasoning engine'], '3. What is the main difference between react and auto GPT, according to the speaker?': ['a) React is designed for short-term goals, while auto GPT is designed for long-term goals', 'b) React uses tools, while auto GPT does not', 'c) React is a prompting strategy, while auto GPT is an agent framework', 'd) React is designed for language models, while auto GPT is designed for humans', 'Answer: a) React is designed for short-term goals, while auto GPT is designed for long-term goals'], '4. What is the idea of personalization in agents, according to the speaker?': ['a) Giving an agent its own objective and persona', 'b) Allowing an agent to interact with humans', 'c) Using tools to overcome limitations of language models', 'd) Improving the reliability of language models', 'Answer: a) Giving an agent its own objective and persona'], '5. What is the main novel thing introduced in the Camel paper, according to the speaker?': ['a) The idea of long-term memory for agent-tool interactions', 'b) The idea of separate planning and execution steps', 'c) The idea of simulation environments for agent interaction', 'd) The idea of using tools to overcome limitations of language models', 'Answer: c) The idea of simulation environments for agent interaction']}\n"
          ]
        }
      ],
      "source": [
        "import assemblyai as aai\n",
        "import requests\n",
        "import time\n",
        "import os\n",
        "import subprocess\n",
        "from pytube import YouTube\n",
        "from textwrap import wrap\n",
        "from fireworks.client import Fireworks\n",
        "from getpass import getpass\n",
        "\n",
        "\n",
        "# Set AssemblyAI API key\n",
        "aai.settings.api_key = assemblyai_api_key\n",
        "\n",
        "# Function to download YouTube video\n",
        "def download_youtube_video(youtube_url, video_output):\n",
        "    yt = YouTube(youtube_url)\n",
        "    video_stream = yt.streams.filter(only_audio=True).first()\n",
        "    video_stream.download(filename=video_output)\n",
        "\n",
        "# Function to extract audio from video\n",
        "def extract_audio(video_path, audio_output):\n",
        "    command = f\"ffmpeg -i {video_path} -q:a 0 -map a {audio_output}\"\n",
        "    subprocess.run(command, shell=True)\n",
        "\n",
        "# Function to upload audio to AssemblyAI\n",
        "def upload_to_assemblyai(audio_path):\n",
        "    headers = {\n",
        "        \"authorization\": assemblyai_api_key,\n",
        "    }\n",
        "    response = requests.post(\"https://api.assemblyai.com/v2/upload\",\n",
        "                             headers=headers,\n",
        "                             files={\"file\": open(audio_path, \"rb\")})\n",
        "    return response.json()[\"upload_url\"]\n",
        "\n",
        "# Function to transcribe audio using AssemblyAI\n",
        "def transcribe_audio(audio_url):\n",
        "    endpoint = \"https://api.assemblyai.com/v2/transcript\"\n",
        "    json = {\n",
        "        \"audio_url\": audio_url\n",
        "    }\n",
        "    headers = {\n",
        "        \"authorization\": assemblyai_api_key,\n",
        "        \"content-type\": \"application/json\"\n",
        "    }\n",
        "    response = requests.post(endpoint, json=json, headers=headers)\n",
        "    transcript_id = response.json()[\"id\"]\n",
        "\n",
        "    # Polling for the transcription result\n",
        "    endpoint = f\"https://api.assemblyai.com/v2/transcript/{transcript_id}\"\n",
        "    while True:\n",
        "        response = requests.get(endpoint, headers=headers)\n",
        "        result = response.json()\n",
        "        if result[\"status\"] == \"completed\":\n",
        "            return result[\"text\"]\n",
        "        elif result[\"status\"] == \"failed\":\n",
        "            raise Exception(\"Transcription failed\")\n",
        "        time.sleep(5)\n",
        "\n",
        "\n",
        "\n",
        "def get_completion(prompt, max_tokens=4096):\n",
        "    fw_model_dir = \"accounts/fireworks/models/\"\n",
        "    model = \"llama-v3-70b-instruct\"\n",
        "    model = fw_model_dir + model\n",
        "    completion = fireworks.client.Completion.create(\n",
        "        model=model,\n",
        "        prompt=prompt,\n",
        "        max_tokens=max_tokens,\n",
        "        temperature=0\n",
        "    )\n",
        "\n",
        "    return completion.choices[0].text\n",
        "# Function to extract action items using Fireworks\n",
        "def extract_action_items(transcription):\n",
        "    prompt = f\"Extract action items from the following meeting transcript:\\n\\n{transcription}\\n\\nAction items:\"\n",
        "    action_items = get_completion(prompt)\n",
        "    return action_items.strip()\n",
        "\n",
        "\n",
        "# Function to generate MCQs\n",
        "def generate_mcqs(transcription):\n",
        "    prompt = f\"Generate 10 multiple choice questions from the following transcript. Only provide the questions and answer options without any additional text or formatting:\\n\\n{transcription}\\n\\nMCQs:\"\n",
        "    mcqs = get_completion(prompt)\n",
        "    return mcqs.strip()\n",
        "\n",
        "# Main process function\n",
        "def process_video(video_file_path=None, youtube_url=None):\n",
        "    video_file_path = \"downloaded_video.mp4\" if youtube_url else video_file_path\n",
        "    audio_file_path = \"output_audio.mp3\"\n",
        "\n",
        "    if youtube_url:\n",
        "        download_youtube_video(youtube_url, video_file_path)\n",
        "\n",
        "    extract_audio(video_file_path, audio_file_path)\n",
        "    audio_url = upload_to_assemblyai(audio_file_path)\n",
        "    transcription = transcribe_audio(audio_url)\n",
        "    action_items = extract_action_items(transcription)\n",
        "    mcqs = generate_mcqs(transcription)\n",
        "\n",
        "    if youtube_url:\n",
        "        os.remove(video_file_path)  # Clean up video file if it was downloaded\n",
        "    os.remove(audio_file_path)  # Clean up audio file\n",
        "\n",
        "    return transcription, action_items, mcqs\n",
        "\n",
        "# Example usage\n",
        "video_fileyoutube_url = input(\"Enter YouTube URL (leave blank if uploading a video file): \").strip()\n",
        "_path = None\n",
        "\n",
        "if not youtube_url:\n",
        "    video_file_path = input(\"Enter the path to your video file: \").strip()\n",
        "\n",
        "# Process the video\n",
        "transcription, action_items, mcqs = process_video(video_file_path=video_file_path, youtube_url=youtube_url)\n",
        "\n",
        "# Display the results\n",
        "# wrapped_transcription = \"\\n\".join(wrap(transcription, width=80))\n",
        "# print(\"### Transcription:\\n\")\n",
        "# print(wrapped_transcription)\n",
        "# print(\"\\n### Action Items:\\n\")\n",
        "# print(action_items)\n",
        "# print(\"\\n### MCQs:\\n\")\n",
        "# print(mcqs)\n",
        "mcqs_list = [q.strip() for q in mcqs.split('\\n') if q.strip()]\n",
        "mcqs_dict = {}\n",
        "question = \"\"\n",
        "for i, line in enumerate(mcqs_list):\n",
        "    if i % 6 == 0:\n",
        "        question = line\n",
        "        mcqs_dict[question] = []\n",
        "    else:\n",
        "        mcqs_dict[question].append(line)\n",
        "\n",
        "# Display the MCQs dictionary\n",
        "print(\"### MCQs Dictionary:\\n\")\n",
        "print(mcqs_dict)"
      ]
    }
  ],
  "metadata": {
    "colab": {
      "provenance": []
    },
    "kernelspec": {
      "display_name": "Python 3",
      "name": "python3"
    },
    "language_info": {
      "codemirror_mode": {
        "name": "ipython",
        "version": 3
      },
      "file_extension": ".py",
      "mimetype": "text/x-python",
      "name": "python",
      "nbconvert_exporter": "python",
      "pygments_lexer": "ipython3",
      "version": "3.12.3"
    }
  },
  "nbformat": 4,
  "nbformat_minor": 0
}
